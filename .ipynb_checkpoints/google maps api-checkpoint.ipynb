{
 "cells": [
  {
   "cell_type": "code",
   "execution_count": null,
   "metadata": {
    "collapsed": true
   },
   "outputs": [],
   "source": []
  },
  {
   "cell_type": "code",
   "execution_count": 5,
   "metadata": {},
   "outputs": [
    {
     "name": "stdout",
     "output_type": "stream",
     "text": [
      "{'results': [{'address_components': [{'long_name': '300', 'short_name': '300', 'types': ['subpremise']}, {'long_name': '212', 'short_name': '212', 'types': ['street_number']}, {'long_name': 'Southwest 8th Avenue', 'short_name': 'SW 8th Ave', 'types': ['route']}, {'long_name': 'Downtown', 'short_name': 'Downtown', 'types': ['neighborhood', 'political']}, {'long_name': 'Topeka', 'short_name': 'Topeka', 'types': ['locality', 'political']}, {'long_name': 'Shawnee County', 'short_name': 'Shawnee County', 'types': ['administrative_area_level_2', 'political']}, {'long_name': 'Kansas', 'short_name': 'KS', 'types': ['administrative_area_level_1', 'political']}, {'long_name': 'United States', 'short_name': 'US', 'types': ['country', 'political']}, {'long_name': '66603', 'short_name': '66603', 'types': ['postal_code']}, {'long_name': '3938', 'short_name': '3938', 'types': ['postal_code_suffix']}], 'formatted_address': '212 SW 8th Ave #300, Topeka, KS 66603, USA', 'geometry': {'location': {'lat': 39.0496889, 'lng': -95.6767544}, 'location_type': 'ROOFTOP', 'viewport': {'northeast': {'lat': 39.0510378802915, 'lng': -95.6754054197085}, 'southwest': {'lat': 39.0483399197085, 'lng': -95.6781033802915}}}, 'place_id': 'ChIJ97UChQ8Dv4cR2BDVLR5fv3s', 'types': ['establishment', 'point_of_interest']}], 'status': 'OK'}\n"
     ]
    }
   ],
   "source": [
    "import urllib.parse, requests,json\n",
    "main_api=\"https://maps.googleapis.com/maps/api/geocode/json?\"\n",
    "add=\"khi\"\n",
    "url=main_api+urllib.parse.urlencode({\"address\":add})\n",
    "json_data=requests.get(url).json()\n",
    "\n",
    "print(json_data)"
   ]
  },
  {
   "cell_type": "code",
   "execution_count": null,
   "metadata": {
    "collapsed": true
   },
   "outputs": [],
   "source": []
  }
 ],
 "metadata": {
  "kernelspec": {
   "display_name": "Python 3",
   "language": "python",
   "name": "python3"
  },
  "language_info": {
   "codemirror_mode": {
    "name": "ipython",
    "version": 3
   },
   "file_extension": ".py",
   "mimetype": "text/x-python",
   "name": "python",
   "nbconvert_exporter": "python",
   "pygments_lexer": "ipython3",
   "version": "3.6.1"
  }
 },
 "nbformat": 4,
 "nbformat_minor": 1
}
