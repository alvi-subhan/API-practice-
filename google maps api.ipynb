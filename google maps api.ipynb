{
 "cells": [
  {
   "cell_type": "code",
   "execution_count": 3,
   "metadata": {
    "collapsed": true
   },
   "outputs": [
    {
     "name": "stdout",
     "output_type": "stream",
     "text": [
      "{'results': [{'address_components': [{'long_name': '2801', 'short_name': '2801', 'types': ['street_number']}, {'long_name': 'West Sunset Avenue', 'short_name': 'W Sunset Ave', 'types': ['route']}, {'long_name': 'Springdale', 'short_name': 'Springdale', 'types': ['locality', 'political']}, {'long_name': 'Springdale Township', 'short_name': 'Springdale Township', 'types': ['administrative_area_level_3', 'political']}, {'long_name': 'Washington County', 'short_name': 'Washington County', 'types': ['administrative_area_level_2', 'political']}, {'long_name': 'Arkansas', 'short_name': 'AR', 'types': ['administrative_area_level_1', 'political']}, {'long_name': 'United States', 'short_name': 'US', 'types': ['country', 'political']}, {'long_name': '72762', 'short_name': '72762', 'types': ['postal_code']}], 'formatted_address': '2801 W Sunset Ave, Springdale, AR 72762, USA', 'geometry': {'location': {'lat': 36.174933, 'lng': -94.161408}, 'location_type': 'ROOFTOP', 'viewport': {'northeast': {'lat': 36.1762819802915, 'lng': -94.16005901970848}, 'southwest': {'lat': 36.1735840197085, 'lng': -94.16275698029149}}}, 'place_id': 'ChIJ8fOYJ79syYcRBz4OO5n5oHc', 'types': ['establishment', 'point_of_interest']}], 'status': 'OK'}\n"
     ]
    }
   ],
   "source": [
    "import urllib.parse, requests,json\n",
    "main_api=\"https://maps.googleapis.com/maps/api/geocode/json?\"\n",
    "add=\"khg\"\n",
    "url=main_api+urllib.parse.urlencode({\"address\":add})\n",
    "json_data=requests.get(url).json()\n",
    "\n",
    "print(json_data)"
   ]
  },
  {
   "cell_type": "code",
   "execution_count": 9,
   "metadata": {},
   "outputs": [
    {
     "name": "stdout",
     "output_type": "stream",
     "text": [
      "[{'address_components': [{'long_name': '2801', 'short_name': '2801', 'types': ['street_number']}, {'long_name': 'West Sunset Avenue', 'short_name': 'W Sunset Ave', 'types': ['route']}, {'long_name': 'Springdale', 'short_name': 'Springdale', 'types': ['locality', 'political']}, {'long_name': 'Springdale Township', 'short_name': 'Springdale Township', 'types': ['administrative_area_level_3', 'political']}, {'long_name': 'Washington County', 'short_name': 'Washington County', 'types': ['administrative_area_level_2', 'political']}, {'long_name': 'Arkansas', 'short_name': 'AR', 'types': ['administrative_area_level_1', 'political']}, {'long_name': 'United States', 'short_name': 'US', 'types': ['country', 'political']}, {'long_name': '72762', 'short_name': '72762', 'types': ['postal_code']}], 'formatted_address': '2801 W Sunset Ave, Springdale, AR 72762, USA', 'geometry': {'location': {'lat': 36.174933, 'lng': -94.161408}, 'location_type': 'ROOFTOP', 'viewport': {'northeast': {'lat': 36.1762819802915, 'lng': -94.16005901970848}, 'southwest': {'lat': 36.1735840197085, 'lng': -94.16275698029149}}}, 'place_id': 'ChIJ8fOYJ79syYcRBz4OO5n5oHc', 'types': ['establishment', 'point_of_interest']}]\n"
     ]
    }
   ],
   "source": [
    "print(json_data[\"results\"])"
   ]
  },
  {
   "cell_type": "code",
   "execution_count": null,
   "metadata": {
    "collapsed": true
   },
   "outputs": [],
   "source": [
    "{\n",
    "  \"results\": [\n",
    "    {\n",
    "      \"address_components\": [\n",
    "        {\n",
    "          \"long_name\": \"2801\",\n",
    "          \"short_name\": \"2801\",\n",
    "          \"types\": [\n",
    "            \"street_number\"\n",
    "          ]\n",
    "        },\n",
    "        {\n",
    "          \"long_name\": \"West Sunset Avenue\",\n",
    "          \"short_name\": \"W Sunset Ave\",\n",
    "          \"types\": [\n",
    "            \"route\"\n",
    "          ]\n",
    "        },\n",
    "        {\n",
    "          \"long_name\": \"Springdale\",\n",
    "          \"short_name\": \"Springdale\",\n",
    "          \"types\": [\n",
    "            \"locality\",\n",
    "            \"political\"\n",
    "          ]\n",
    "        },\n",
    "        {\n",
    "          \"long_name\": \"Springdale Township\",\n",
    "          \"short_name\": \"Springdale Township\",\n",
    "          \"types\": [\n",
    "            \"administrative_area_level_3\",\n",
    "            \"political\"\n",
    "          ]\n",
    "        },\n",
    "        {\n",
    "          \"long_name\": \"Washington County\",\n",
    "          \"short_name\": \"Washington County\",\n",
    "          \"types\": [\n",
    "            \"administrative_area_level_2\",\n",
    "            \"political\"\n",
    "          ]\n",
    "        },\n",
    "        {\n",
    "          \"long_name\": \"Arkansas\",\n",
    "          \"short_name\": \"AR\",\n",
    "          \"types\": [\n",
    "            \"administrative_area_level_1\",\n",
    "            \"political\"\n",
    "          ]\n",
    "        },\n",
    "        {\n",
    "          \"long_name\": \"United States\",\n",
    "          \"short_name\": \"US\",\n",
    "          \"types\": [\n",
    "            \"country\",\n",
    "            \"political\"\n",
    "          ]\n",
    "        },\n",
    "        {\n",
    "          \"long_name\": \"72762\",\n",
    "          \"short_name\": \"72762\",\n",
    "          \"types\": [\n",
    "            \"postal_code\"\n",
    "          ]\n",
    "        }\n",
    "      ],\n",
    "      \"formatted_address\": \"2801 W Sunset Ave, Springdale, AR 72762, USA\",\n",
    "      \"geometry\": {\n",
    "        \"location\": {\n",
    "          \"lat\": 36.174933,\n",
    "          \"lng\": -94.16140799999999\n",
    "        },\n",
    "        \"location_type\": \"ROOFTOP\",\n",
    "        \"viewport\": {\n",
    "          \"northeast\": {\n",
    "            \"lat\": 36.1762819802915,\n",
    "            \"lng\": -94.16005901970848\n",
    "          },\n",
    "          \"southwest\": {\n",
    "            \"lat\": 36.1735840197085,\n",
    "            \"lng\": -94.16275698029149\n",
    "          }\n",
    "        }\n",
    "      },\n",
    "      \"place_id\": \"ChIJ8fOYJ79syYcRBz4OO5n5oHc\",\n",
    "      \"types\": [\n",
    "        \"establishment\",\n",
    "        \"point_of_interest\"\n",
    "      ]\n",
    "    }\n",
    "  ],\n",
    "  \"status\": \"OK\"\n",
    "}\"\""
   ]
  },
  {
   "cell_type": "code",
   "execution_count": 34,
   "metadata": {},
   "outputs": [
    {
     "name": "stdout",
     "output_type": "stream",
     "text": [
      "2\n"
     ]
    }
   ],
   "source": [
    "print(len(json_data))"
   ]
  },
  {
   "cell_type": "code",
   "execution_count": 13,
   "metadata": {},
   "outputs": [
    {
     "name": "stdout",
     "output_type": "stream",
     "text": [
      "1\n"
     ]
    }
   ],
   "source": [
    "print(len(json_data[\"results\"]))\n",
    "#the result is a lis with on dic and in that dic we have some other dictionaries"
   ]
  },
  {
   "cell_type": "code",
   "execution_count": 32,
   "metadata": {},
   "outputs": [
    {
     "name": "stdout",
     "output_type": "stream",
     "text": [
      "the lenght of the dic in results is\n",
      "5\n"
     ]
    }
   ],
   "source": [
    "print(\"the lenght of the dic in results is\")\n",
    "print(len(json_data[\"results\"][0]))\n"
   ]
  },
  {
   "cell_type": "code",
   "execution_count": 27,
   "metadata": {},
   "outputs": [
    {
     "name": "stdout",
     "output_type": "stream",
     "text": [
      "formatted_address is a key inside a dic in results\n"
     ]
    },
    {
     "data": {
      "text/plain": [
       "'2801 W Sunset Ave, Springdale, AR 72762, USA'"
      ]
     },
     "execution_count": 27,
     "metadata": {},
     "output_type": "execute_result"
    }
   ],
   "source": [
    "print(\"formatted_address is a key inside a dic in results\")\n",
    "formatted_name=json_data[\"results\"][0][\"formatted_address\"]\n",
    "\n",
    "formatted_name"
   ]
  },
  {
   "cell_type": "code",
   "execution_count": 33,
   "metadata": {},
   "outputs": [
    {
     "name": "stdout",
     "output_type": "stream",
     "text": [
      "8\n"
     ]
    }
   ],
   "source": [
    "#print(\"the address component is a list inside\")\n",
    "\n",
    "print(len(json_data[\"results\"][0][\"address_components\"]))"
   ]
  },
  {
   "cell_type": "code",
   "execution_count": 42,
   "metadata": {},
   "outputs": [
    {
     "name": "stdout",
     "output_type": "stream",
     "text": [
      "{'long_name': '2801', 'short_name': '2801', 'types': ['street_number']}\n",
      "{'long_name': 'West Sunset Avenue', 'short_name': 'W Sunset Ave', 'types': ['route']}\n",
      "{'long_name': 'Springdale', 'short_name': 'Springdale', 'types': ['locality', 'political']}\n",
      "{'long_name': 'Springdale Township', 'short_name': 'Springdale Township', 'types': ['administrative_area_level_3', 'political']}\n",
      "{'long_name': 'Washington County', 'short_name': 'Washington County', 'types': ['administrative_area_level_2', 'political']}\n",
      "{'long_name': 'Arkansas', 'short_name': 'AR', 'types': ['administrative_area_level_1', 'political']}\n",
      "{'long_name': 'United States', 'short_name': 'US', 'types': ['country', 'political']}\n",
      "{'long_name': '72762', 'short_name': '72762', 'types': ['postal_code']}\n"
     ]
    }
   ],
   "source": [
    "for each in json_data[\"results\"][0][\"address_components\"]:\n",
    "    print(each)"
   ]
  },
  {
   "cell_type": "code",
   "execution_count": 45,
   "metadata": {},
   "outputs": [
    {
     "name": "stdout",
     "output_type": "stream",
     "text": [
      "2801\n",
      "West Sunset Avenue\n",
      "Springdale\n",
      "Springdale Township\n",
      "Washington County\n",
      "Arkansas\n",
      "United States\n",
      "72762\n"
     ]
    }
   ],
   "source": [
    "for each in json_data[\"results\"][0][\"address_components\"]:\n",
    "    print(each[\"long_name\"])"
   ]
  },
  {
   "cell_type": "code",
   "execution_count": null,
   "metadata": {
    "collapsed": true
   },
   "outputs": [],
   "source": []
  }
 ],
 "metadata": {
  "kernelspec": {
   "display_name": "Python 3",
   "language": "python",
   "name": "python3"
  },
  "language_info": {
   "codemirror_mode": {
    "name": "ipython",
    "version": 3
   },
   "file_extension": ".py",
   "mimetype": "text/x-python",
   "name": "python",
   "nbconvert_exporter": "python",
   "pygments_lexer": "ipython3",
   "version": "3.6.1"
  }
 },
 "nbformat": 4,
 "nbformat_minor": 1
}
